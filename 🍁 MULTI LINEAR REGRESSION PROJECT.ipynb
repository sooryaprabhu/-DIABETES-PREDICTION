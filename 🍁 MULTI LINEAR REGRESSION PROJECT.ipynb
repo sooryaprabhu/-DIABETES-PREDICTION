{
 "cells": [
  {
   "cell_type": "code",
   "execution_count": 2,
   "id": "a05fee40",
   "metadata": {},
   "outputs": [],
   "source": [
    "import pandas as pd\n",
    "import numpy as np\n",
    "from sklearn.model_selection import train_test_split\n",
    "from sklearn.linear_model import LinearRegression"
   ]
  },
  {
   "cell_type": "code",
   "execution_count": 4,
   "id": "10021266",
   "metadata": {},
   "outputs": [],
   "source": [
    "dataset=pd.read_csv('50_Startups.csv')"
   ]
  },
  {
   "cell_type": "code",
   "execution_count": 6,
   "id": "8f104e9d",
   "metadata": {},
   "outputs": [
    {
     "data": {
      "text/html": [
       "<div>\n",
       "<style scoped>\n",
       "    .dataframe tbody tr th:only-of-type {\n",
       "        vertical-align: middle;\n",
       "    }\n",
       "\n",
       "    .dataframe tbody tr th {\n",
       "        vertical-align: top;\n",
       "    }\n",
       "\n",
       "    .dataframe thead th {\n",
       "        text-align: right;\n",
       "    }\n",
       "</style>\n",
       "<table border=\"1\" class=\"dataframe\">\n",
       "  <thead>\n",
       "    <tr style=\"text-align: right;\">\n",
       "      <th></th>\n",
       "      <th>Unnamed: 0</th>\n",
       "      <th>R&amp;D Spend</th>\n",
       "      <th>Administration</th>\n",
       "      <th>Marketing Spend</th>\n",
       "      <th>State</th>\n",
       "      <th>Profit</th>\n",
       "    </tr>\n",
       "  </thead>\n",
       "  <tbody>\n",
       "    <tr>\n",
       "      <th>0</th>\n",
       "      <td>0</td>\n",
       "      <td>165349.20</td>\n",
       "      <td>136897.80</td>\n",
       "      <td>471784.10</td>\n",
       "      <td>New York</td>\n",
       "      <td>192261.83</td>\n",
       "    </tr>\n",
       "    <tr>\n",
       "      <th>1</th>\n",
       "      <td>1</td>\n",
       "      <td>162597.70</td>\n",
       "      <td>151377.59</td>\n",
       "      <td>443898.53</td>\n",
       "      <td>California</td>\n",
       "      <td>191792.06</td>\n",
       "    </tr>\n",
       "    <tr>\n",
       "      <th>2</th>\n",
       "      <td>2</td>\n",
       "      <td>153441.51</td>\n",
       "      <td>101145.55</td>\n",
       "      <td>407934.54</td>\n",
       "      <td>Florida</td>\n",
       "      <td>191050.39</td>\n",
       "    </tr>\n",
       "    <tr>\n",
       "      <th>3</th>\n",
       "      <td>3</td>\n",
       "      <td>144372.41</td>\n",
       "      <td>118671.85</td>\n",
       "      <td>383199.62</td>\n",
       "      <td>New York</td>\n",
       "      <td>182901.99</td>\n",
       "    </tr>\n",
       "    <tr>\n",
       "      <th>4</th>\n",
       "      <td>4</td>\n",
       "      <td>142107.34</td>\n",
       "      <td>91391.77</td>\n",
       "      <td>366168.42</td>\n",
       "      <td>Florida</td>\n",
       "      <td>166187.94</td>\n",
       "    </tr>\n",
       "  </tbody>\n",
       "</table>\n",
       "</div>"
      ],
      "text/plain": [
       "   Unnamed: 0  R&D Spend  Administration  Marketing Spend       State  \\\n",
       "0           0  165349.20       136897.80        471784.10    New York   \n",
       "1           1  162597.70       151377.59        443898.53  California   \n",
       "2           2  153441.51       101145.55        407934.54     Florida   \n",
       "3           3  144372.41       118671.85        383199.62    New York   \n",
       "4           4  142107.34        91391.77        366168.42     Florida   \n",
       "\n",
       "      Profit  \n",
       "0  192261.83  \n",
       "1  191792.06  \n",
       "2  191050.39  \n",
       "3  182901.99  \n",
       "4  166187.94  "
      ]
     },
     "execution_count": 6,
     "metadata": {},
     "output_type": "execute_result"
    }
   ],
   "source": [
    "dataset.head()"
   ]
  },
  {
   "cell_type": "code",
   "execution_count": 23,
   "id": "df2e08bc",
   "metadata": {},
   "outputs": [
    {
     "data": {
      "text/plain": [
       "(50, 6)"
      ]
     },
     "execution_count": 23,
     "metadata": {},
     "output_type": "execute_result"
    }
   ],
   "source": [
    "dataset.shape"
   ]
  },
  {
   "cell_type": "code",
   "execution_count": 8,
   "id": "96aea189",
   "metadata": {},
   "outputs": [],
   "source": [
    "X=dataset.drop('Profit',axis=1)"
   ]
  },
  {
   "cell_type": "code",
   "execution_count": 9,
   "id": "9dd68694",
   "metadata": {},
   "outputs": [
    {
     "name": "stdout",
     "output_type": "stream",
     "text": [
      "    Unnamed: 0  R&D Spend  Administration  Marketing Spend       State\n",
      "0            0  165349.20       136897.80        471784.10    New York\n",
      "1            1  162597.70       151377.59        443898.53  California\n",
      "2            2  153441.51       101145.55        407934.54     Florida\n",
      "3            3  144372.41       118671.85        383199.62    New York\n",
      "4            4  142107.34        91391.77        366168.42     Florida\n",
      "5            5  131876.90        99814.71        362861.36    New York\n",
      "6            6  134615.46       147198.87        127716.82  California\n",
      "7            7  130298.13       145530.06        323876.68     Florida\n",
      "8            8  120542.52       148718.95        311613.29    New York\n",
      "9            9  123334.88       108679.17        304981.62  California\n",
      "10          10  101913.08       110594.11        229160.95     Florida\n",
      "11          11  100671.96        91790.61        249744.55  California\n",
      "12          12   93863.75       127320.38        249839.44     Florida\n",
      "13          13   91992.39       135495.07        252664.93  California\n",
      "14          14  119943.24       156547.42        256512.92     Florida\n",
      "15          15  114523.61       122616.84        261776.23    New York\n",
      "16          16   78013.11       121597.55        264346.06  California\n",
      "17          17   94657.16       145077.58        282574.31    New York\n",
      "18          18   91749.16       114175.79        294919.57     Florida\n",
      "19          19   86419.70       153514.11             0.00    New York\n",
      "20          20   76253.86       113867.30        298664.47  California\n",
      "21          21   78389.47       153773.43        299737.29    New York\n",
      "22          22   73994.56       122782.75        303319.26     Florida\n",
      "23          23   67532.53       105751.03        304768.73     Florida\n",
      "24          24   77044.01        99281.34        140574.81    New York\n",
      "25          25   64664.71       139553.16        137962.62  California\n",
      "26          26   75328.87       144135.98        134050.07     Florida\n",
      "27          27   72107.60       127864.55        353183.81    New York\n",
      "28          28   66051.52       182645.56        118148.20     Florida\n",
      "29          29   65605.48       153032.06        107138.38    New York\n",
      "30          30   61994.48       115641.28         91131.24     Florida\n",
      "31          31   61136.38       152701.92         88218.23    New York\n",
      "32          32   63408.86       129219.61         46085.25  California\n",
      "33          33   55493.95       103057.49        214634.81     Florida\n",
      "34          34   46426.07       157693.92        210797.67  California\n",
      "35          35   46014.02        85047.44        205517.64    New York\n",
      "36          36   28663.76       127056.21        201126.82     Florida\n",
      "37          37   44069.95        51283.14        197029.42  California\n",
      "38          38   20229.59        65947.93        185265.10    New York\n",
      "39          39   38558.51        82982.09        174999.30  California\n",
      "40          40   28754.33       118546.05        172795.67  California\n",
      "41          41   27892.92        84710.77        164470.71     Florida\n",
      "42          42   23640.93        96189.63        148001.11  California\n",
      "43          43   15505.73       127382.30         35534.17    New York\n",
      "44          44   22177.74       154806.14         28334.72  California\n",
      "45          45    1000.23       124153.04          1903.93    New York\n",
      "46          46    1315.46       115816.21        297114.46     Florida\n",
      "47          47       0.00       135426.92             0.00  California\n",
      "48          48     542.05        51743.15             0.00    New York\n",
      "49          49       0.00       116983.80         45173.06  California\n"
     ]
    }
   ],
   "source": [
    "print(X)"
   ]
  },
  {
   "cell_type": "code",
   "execution_count": 11,
   "id": "75e17d26",
   "metadata": {},
   "outputs": [],
   "source": [
    "Y=dataset['Profit']"
   ]
  },
  {
   "cell_type": "code",
   "execution_count": 12,
   "id": "ea16433f",
   "metadata": {},
   "outputs": [
    {
     "name": "stdout",
     "output_type": "stream",
     "text": [
      "0     192261.83\n",
      "1     191792.06\n",
      "2     191050.39\n",
      "3     182901.99\n",
      "4     166187.94\n",
      "5     156991.12\n",
      "6     156122.51\n",
      "7     155752.60\n",
      "8     152211.77\n",
      "9     149759.96\n",
      "10    146121.95\n",
      "11    144259.40\n",
      "12    141585.52\n",
      "13    134307.35\n",
      "14    132602.65\n",
      "15    129917.04\n",
      "16    126992.93\n",
      "17    125370.37\n",
      "18    124266.90\n",
      "19    122776.86\n",
      "20    118474.03\n",
      "21    111313.02\n",
      "22    110352.25\n",
      "23    108733.99\n",
      "24    108552.04\n",
      "25    107404.34\n",
      "26    105733.54\n",
      "27    105008.31\n",
      "28    103282.38\n",
      "29    101004.64\n",
      "30     99937.59\n",
      "31     97483.56\n",
      "32     97427.84\n",
      "33     96778.92\n",
      "34     96712.80\n",
      "35     96479.51\n",
      "36     90708.19\n",
      "37     89949.14\n",
      "38     81229.06\n",
      "39     81005.76\n",
      "40     78239.91\n",
      "41     77798.83\n",
      "42     71498.49\n",
      "43     69758.98\n",
      "44     65200.33\n",
      "45     64926.08\n",
      "46     49490.75\n",
      "47     42559.73\n",
      "48     35673.41\n",
      "49     14681.40\n",
      "Name: Profit, dtype: float64\n"
     ]
    }
   ],
   "source": [
    "print(Y)"
   ]
  },
  {
   "cell_type": "code",
   "execution_count": 13,
   "id": "0a5d173b",
   "metadata": {},
   "outputs": [],
   "source": [
    "#converting column into categorical varibels\n",
    "states=pd.get_dummies(X['State'],drop_first=True)"
   ]
  },
  {
   "cell_type": "code",
   "execution_count": 20,
   "id": "a84cf748",
   "metadata": {},
   "outputs": [
    {
     "name": "stdout",
     "output_type": "stream",
     "text": [
      "    Florida  New York\n",
      "0         0         1\n",
      "1         0         0\n",
      "2         1         0\n",
      "3         0         1\n",
      "4         1         0\n",
      "5         0         1\n",
      "6         0         0\n",
      "7         1         0\n",
      "8         0         1\n",
      "9         0         0\n",
      "10        1         0\n",
      "11        0         0\n",
      "12        1         0\n",
      "13        0         0\n",
      "14        1         0\n",
      "15        0         1\n",
      "16        0         0\n",
      "17        0         1\n",
      "18        1         0\n",
      "19        0         1\n",
      "20        0         0\n",
      "21        0         1\n",
      "22        1         0\n",
      "23        1         0\n",
      "24        0         1\n",
      "25        0         0\n",
      "26        1         0\n",
      "27        0         1\n",
      "28        1         0\n",
      "29        0         1\n",
      "30        1         0\n",
      "31        0         1\n",
      "32        0         0\n",
      "33        1         0\n",
      "34        0         0\n",
      "35        0         1\n",
      "36        1         0\n",
      "37        0         0\n",
      "38        0         1\n",
      "39        0         0\n",
      "40        0         0\n",
      "41        1         0\n",
      "42        0         0\n",
      "43        0         1\n",
      "44        0         0\n",
      "45        0         1\n",
      "46        1         0\n",
      "47        0         0\n",
      "48        0         1\n",
      "49        0         0\n"
     ]
    }
   ],
   "source": [
    "print(states)"
   ]
  },
  {
   "cell_type": "code",
   "execution_count": 14,
   "id": "b4581d36",
   "metadata": {},
   "outputs": [],
   "source": [
    "#Drop the state coulmn\n",
    "X=X.drop('State',axis=1)"
   ]
  },
  {
   "cell_type": "code",
   "execution_count": 18,
   "id": "c5a02b1b",
   "metadata": {},
   "outputs": [],
   "source": [
    "#concat the dummy varibles\n",
    "X=pd.concat([X,states],axis=1)"
   ]
  },
  {
   "cell_type": "code",
   "execution_count": 19,
   "id": "c9fe18a1",
   "metadata": {},
   "outputs": [
    {
     "name": "stdout",
     "output_type": "stream",
     "text": [
      "    Unnamed: 0  R&D Spend  Administration  Marketing Spend  Florida  New York\n",
      "0            0  165349.20       136897.80        471784.10        0         1\n",
      "1            1  162597.70       151377.59        443898.53        0         0\n",
      "2            2  153441.51       101145.55        407934.54        1         0\n",
      "3            3  144372.41       118671.85        383199.62        0         1\n",
      "4            4  142107.34        91391.77        366168.42        1         0\n",
      "5            5  131876.90        99814.71        362861.36        0         1\n",
      "6            6  134615.46       147198.87        127716.82        0         0\n",
      "7            7  130298.13       145530.06        323876.68        1         0\n",
      "8            8  120542.52       148718.95        311613.29        0         1\n",
      "9            9  123334.88       108679.17        304981.62        0         0\n",
      "10          10  101913.08       110594.11        229160.95        1         0\n",
      "11          11  100671.96        91790.61        249744.55        0         0\n",
      "12          12   93863.75       127320.38        249839.44        1         0\n",
      "13          13   91992.39       135495.07        252664.93        0         0\n",
      "14          14  119943.24       156547.42        256512.92        1         0\n",
      "15          15  114523.61       122616.84        261776.23        0         1\n",
      "16          16   78013.11       121597.55        264346.06        0         0\n",
      "17          17   94657.16       145077.58        282574.31        0         1\n",
      "18          18   91749.16       114175.79        294919.57        1         0\n",
      "19          19   86419.70       153514.11             0.00        0         1\n",
      "20          20   76253.86       113867.30        298664.47        0         0\n",
      "21          21   78389.47       153773.43        299737.29        0         1\n",
      "22          22   73994.56       122782.75        303319.26        1         0\n",
      "23          23   67532.53       105751.03        304768.73        1         0\n",
      "24          24   77044.01        99281.34        140574.81        0         1\n",
      "25          25   64664.71       139553.16        137962.62        0         0\n",
      "26          26   75328.87       144135.98        134050.07        1         0\n",
      "27          27   72107.60       127864.55        353183.81        0         1\n",
      "28          28   66051.52       182645.56        118148.20        1         0\n",
      "29          29   65605.48       153032.06        107138.38        0         1\n",
      "30          30   61994.48       115641.28         91131.24        1         0\n",
      "31          31   61136.38       152701.92         88218.23        0         1\n",
      "32          32   63408.86       129219.61         46085.25        0         0\n",
      "33          33   55493.95       103057.49        214634.81        1         0\n",
      "34          34   46426.07       157693.92        210797.67        0         0\n",
      "35          35   46014.02        85047.44        205517.64        0         1\n",
      "36          36   28663.76       127056.21        201126.82        1         0\n",
      "37          37   44069.95        51283.14        197029.42        0         0\n",
      "38          38   20229.59        65947.93        185265.10        0         1\n",
      "39          39   38558.51        82982.09        174999.30        0         0\n",
      "40          40   28754.33       118546.05        172795.67        0         0\n",
      "41          41   27892.92        84710.77        164470.71        1         0\n",
      "42          42   23640.93        96189.63        148001.11        0         0\n",
      "43          43   15505.73       127382.30         35534.17        0         1\n",
      "44          44   22177.74       154806.14         28334.72        0         0\n",
      "45          45    1000.23       124153.04          1903.93        0         1\n",
      "46          46    1315.46       115816.21        297114.46        1         0\n",
      "47          47       0.00       135426.92             0.00        0         0\n",
      "48          48     542.05        51743.15             0.00        0         1\n",
      "49          49       0.00       116983.80         45173.06        0         0\n"
     ]
    }
   ],
   "source": [
    "print(X)"
   ]
  },
  {
   "cell_type": "code",
   "execution_count": 21,
   "id": "11404558",
   "metadata": {},
   "outputs": [],
   "source": [
    "X_train,X_test,Y_train,Y_test=train_test_split(X,Y,test_size=0.2,random_state=0)"
   ]
  },
  {
   "cell_type": "code",
   "execution_count": 22,
   "id": "f760cee9",
   "metadata": {},
   "outputs": [
    {
     "name": "stdout",
     "output_type": "stream",
     "text": [
      "(50, 6) (40, 6) (10, 6)\n"
     ]
    }
   ],
   "source": [
    "print(X.shape,X_train.shape,X_test.shape)"
   ]
  },
  {
   "cell_type": "code",
   "execution_count": 25,
   "id": "801e3442",
   "metadata": {},
   "outputs": [
    {
     "data": {
      "text/plain": [
       "LinearRegression()"
      ]
     },
     "execution_count": 25,
     "metadata": {},
     "output_type": "execute_result"
    }
   ],
   "source": [
    "#fitting multi linear regression to the training set\n",
    "model=LinearRegression()\n",
    "model.fit(X_train,Y_train)"
   ]
  },
  {
   "cell_type": "code",
   "execution_count": 27,
   "id": "434bc15a",
   "metadata": {},
   "outputs": [],
   "source": [
    "#predicting the test set result\n",
    "Y_pred=model.predict(X_test)"
   ]
  },
  {
   "cell_type": "code",
   "execution_count": 31,
   "id": "de1fccf4",
   "metadata": {},
   "outputs": [
    {
     "name": "stdout",
     "output_type": "stream",
     "text": [
      "[100816.16253313 140421.08291306 140326.34377033  69222.14281516\n",
      " 176069.55437658 112270.7920814   72123.14325057  95713.86040831\n",
      " 116088.8380738  167707.9310573 ]\n"
     ]
    }
   ],
   "source": [
    "print(Y_pred)"
   ]
  },
  {
   "cell_type": "code",
   "execution_count": 28,
   "id": "6cd82b8d",
   "metadata": {},
   "outputs": [],
   "source": [
    "from sklearn.metrics import r2_score"
   ]
  },
  {
   "cell_type": "code",
   "execution_count": 30,
   "id": "2d4aea63",
   "metadata": {},
   "outputs": [],
   "source": [
    "score=r2_score(Y_test,Y_pred)"
   ]
  },
  {
   "cell_type": "code",
   "execution_count": 32,
   "id": "039cea85",
   "metadata": {},
   "outputs": [
    {
     "name": "stdout",
     "output_type": "stream",
     "text": [
      "0.9588392809708515\n"
     ]
    }
   ],
   "source": [
    "print(score)"
   ]
  },
  {
   "cell_type": "code",
   "execution_count": null,
   "id": "e4274b9e",
   "metadata": {},
   "outputs": [],
   "source": []
  },
  {
   "cell_type": "code",
   "execution_count": null,
   "id": "1cb4e763",
   "metadata": {},
   "outputs": [],
   "source": []
  },
  {
   "cell_type": "code",
   "execution_count": null,
   "id": "4e98e427",
   "metadata": {},
   "outputs": [],
   "source": []
  }
 ],
 "metadata": {
  "kernelspec": {
   "display_name": "Python 3 (ipykernel)",
   "language": "python",
   "name": "python3"
  },
  "language_info": {
   "codemirror_mode": {
    "name": "ipython",
    "version": 3
   },
   "file_extension": ".py",
   "mimetype": "text/x-python",
   "name": "python",
   "nbconvert_exporter": "python",
   "pygments_lexer": "ipython3",
   "version": "3.9.7"
  }
 },
 "nbformat": 4,
 "nbformat_minor": 5
}
